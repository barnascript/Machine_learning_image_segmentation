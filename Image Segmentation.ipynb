{
 "cells": [
  {
   "cell_type": "code",
   "execution_count": null,
   "id": "23ee480a",
   "metadata": {},
   "outputs": [],
   "source": [
    "import cv2 as cv\n",
    "import numpy as np"
   ]
  },
  {
   "cell_type": "code",
   "execution_count": null,
   "id": "88dac2b9",
   "metadata": {},
   "outputs": [],
   "source": [
    "image = cv.imread(\"multicolor.jpeg\")\n",
    "\n",
    "assert image is not None, \"file could not be read, check with os.path exists()\"\n",
    "\n",
    "\n",
    "hsv = cv.cvtColor(image, cv.COLOR_BGR2HSV)\n",
    "\n",
    "\n",
    "lower_red1 = np.array([0, 100, 100])\n",
    "upper_red1 = np.array([10, 255, 255])\n",
    "mask_red1 =  cv.inRange(hsv, lower_red1, upper_red1)\n",
    "\n",
    "\n",
    "lower_red2 = np.array([160, 100, 100])\n",
    "upper_red2 = np.array([179, 255, 255])\n",
    "mask_red2 = cv.inRange(hsv, lower_red2, upper_red2)\n",
    "\n",
    "lower_blue = np.array([100, 150, 0])\n",
    "upper_blue = np.array([140, 255, 255])\n",
    "mask_blue = cv.inRange(hsv, lower_blue, upper_blue)\n",
    "\n",
    "lower_green = np.array([40, 100, 100])\n",
    "upper_green = np.array([80, 255, 255])\n",
    "mask_green = cv.inRange(hsv, lower_green, upper_green)\n",
    "\n",
    "\n",
    "res_red = cv.bitwise_and(image, image, mask = mask_red1 + mask_red2)\n",
    "res_blue = cv.bitwise_and(image, image, mask=mask_blue)\n",
    "res_green = cv.bitwise_and(image, image, mask= mask_green)\n",
    "\n",
    "# Resize the result arrays to match the canvas region size\n",
    "res_red = cv.resize(res_red, (200, 200))\n",
    "res_blue = cv.resize(res_blue, (200, 200))\n",
    "res_green = cv.resize(res_green, (200, 200))\n",
    "image = cv.resize(image, (200, 200))\n",
    "\n",
    "# Create canvas\n",
    "canvas = np.zeros((430, 430, 3), dtype=np.uint8)\n",
    "\n",
    "# Assign resized result arrays to canvas regions\n",
    "canvas[10:210, 10:210] = res_red\n",
    "canvas[10:210, 220:420] = res_blue\n",
    "canvas[220:420, 10:210] = res_green\n",
    "canvas[220:420, 220:420] = image\n",
    "\n",
    "\n",
    "# Display the canvas\n",
    "cv.imshow(\"All Frames\", canvas)\n",
    "cv.waitKey(0)\n",
    "cv.destroyAllWindows()"
   ]
  },
  {
   "cell_type": "code",
   "execution_count": null,
   "id": "245b733a",
   "metadata": {},
   "outputs": [],
   "source": []
  }
 ],
 "metadata": {
  "kernelspec": {
   "display_name": "Python 3 (ipykernel)",
   "language": "python",
   "name": "python3"
  },
  "language_info": {
   "codemirror_mode": {
    "name": "ipython",
    "version": 3
   },
   "file_extension": ".py",
   "mimetype": "text/x-python",
   "name": "python",
   "nbconvert_exporter": "python",
   "pygments_lexer": "ipython3",
   "version": "3.11.5"
  }
 },
 "nbformat": 4,
 "nbformat_minor": 5
}
